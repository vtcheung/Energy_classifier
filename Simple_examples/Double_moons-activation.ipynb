{
 "cells": [
  {
   "cell_type": "code",
   "execution_count": 52,
   "id": "5904338c-6f8b-4b8f-8bcc-853f57b79e99",
   "metadata": {},
   "outputs": [],
   "source": [
    "import torch\n",
    "import math\n",
    "from torch.utils import data\n",
    "import matplotlib.pyplot as plt\n",
    "\n",
    "import torch.nn.functional as F\n",
    "from torch import nn\n",
    "import numpy as np\n",
    "from scipy.sparse import coo_matrix"
   ]
  },
  {
   "cell_type": "markdown",
   "id": "3ae7e0aa-6583-4b2f-b519-d381e25122dd",
   "metadata": {},
   "source": [
    "## Data generation"
   ]
  },
  {
   "cell_type": "code",
   "execution_count": 53,
   "id": "64316dd2-70f3-4e63-bdba-4864a0bca2dd",
   "metadata": {},
   "outputs": [],
   "source": [
    "def double_moons(data_size, shuffle=True, nf=2, noise_std=0, input_ch=None):\n",
    "\n",
    "    data2d = torch.zeros(data_size, 2, 1)\n",
    "    label = torch.zeros(data_size, 1)\n",
    "\n",
    "    for i in range(int(data_size / 4)):\n",
    "        theta = torch.tensor(i / int(data_size / 4) * 3.14)\n",
    "\n",
    "        label[i, :] = 0\n",
    "        data2d[i, :, :] = torch.tensor(\n",
    "            [[torch.cos(theta) + 0.3*(torch.rand(1)-0.5)], [torch.sin(theta) + 0.3*(torch.rand(1)-0.5)]])\n",
    "\n",
    "        label[i+int(data_size / 4), :] = 1\n",
    "        data2d[i+int(data_size / 4), :, :] = torch.tensor(\n",
    "            [[torch.ones(1) - torch.cos(theta) + 0.3*(torch.rand(1)-0.5)],\n",
    "             [torch.ones(1)*0.5 - torch.sin(theta) + 0.3*(torch.rand(1)-0.5)]])\n",
    "\n",
    "        label[i + int(data_size / 2), :] = 0\n",
    "        data2d[i + int(data_size / 2), :, :] = torch.tensor(\n",
    "            [[torch.cos(theta) + 0.3 * (torch.rand(1) - 0.5) + 2*torch.ones(1)],\n",
    "             [torch.sin(theta) + 0.3 * (torch.rand(1) - 0.5)]])\n",
    "\n",
    "        label[i + int(data_size * 3 / 4), :] = 1\n",
    "        data2d[i + int(data_size * 3 / 4), :, :] = torch.tensor(\n",
    "            [[torch.ones(1) - torch.cos(theta) + 0.3 * (torch.rand(1) - 0.5) + 2*torch.ones(1)],\n",
    "             [torch.ones(1) * 0.5 - torch.sin(theta) + 0.3 * (torch.rand(1) - 0.5)]])\n",
    "    \n",
    "    if noise_std:\n",
    "        for i in range(2):\n",
    "            data2d[:, i, 0] = data2d[:, i, 0] + noise_std*torch.randn(data_size)\n",
    "    \n",
    "    if shuffle:\n",
    "        data2d, label = _data_shuffle(data2d, label)\n",
    "\n",
    "    if nf != 2:\n",
    "        data2d = _data_extension(data2d, nf, input_ch)\n",
    "    \n",
    "    domain = [-2, 5, -1, 2]\n",
    "    return data2d, label, domain"
   ]
  },
  {
   "cell_type": "code",
   "execution_count": 54,
   "id": "63e35bcb-4af8-4ec3-a88b-c2c039c0b27c",
   "metadata": {},
   "outputs": [],
   "source": [
    "data_size = 8000\n",
    "train_data_size = 4000\n",
    "test_data_size = data_size - train_data_size\n",
    "nf=2\n",
    "data_gen = double_moons"
   ]
  },
  {
   "cell_type": "code",
   "execution_count": 55,
   "id": "e464b60c-0863-447f-8acf-6e0068d2f517",
   "metadata": {},
   "outputs": [],
   "source": [
    "def _data_shuffle(data2d, label):\n",
    "    data_size = data2d.shape[0]\n",
    "    randindex = torch.randperm(data_size)\n",
    "    data2d = data2d[randindex, :, :]\n",
    "    label = label[randindex, :]\n",
    "    return data2d, label\n",
    "def _data_extension(data2d, nf, input_ch=None):\n",
    "    if nf < 2:\n",
    "        print(\"Dimension not valid\")\n",
    "        return\n",
    "    elif nf % 2 == 1:\n",
    "        print(\"Using odd dimension nf\")\n",
    "    data_size = data2d.shape[0]\n",
    "    if input_ch is not None:\n",
    "        # input_ch is a list of two elements. The elements indicate where the data enters.\n",
    "        idx_x = input_ch[0]\n",
    "        idx_y = input_ch[1]\n",
    "    else:\n",
    "        idx_x = 0\n",
    "        idx_y = nf-1\n",
    "    data2d = torch.cat((torch.zeros(data_size, idx_x-0, 1),\n",
    "                        data2d[:, 0:1, :],\n",
    "                        torch.zeros(data_size, idx_y-idx_x-1, 1),\n",
    "                        data2d[:, 1:2, :],\n",
    "                        torch.zeros(data_size, nf-1-idx_y, 1)), 1)\n",
    "    return data2d"
   ]
  },
  {
   "cell_type": "code",
   "execution_count": 56,
   "id": "51f73094-3e8d-4f47-8b81-4c5d4de06e40",
   "metadata": {},
   "outputs": [],
   "source": [
    "data2d, labels, domain = data_gen(data_size,nf=2)"
   ]
  },
  {
   "cell_type": "code",
   "execution_count": 57,
   "id": "488b1522-9857-4f52-87e3-ecbecb65d430",
   "metadata": {},
   "outputs": [],
   "source": [
    "class Dataset(data.Dataset):\n",
    "\n",
    "    def __len__(self):\n",
    "        return len(self.list_ids)\n",
    "\n",
    "    def __init__(self, list_ids, data_in, labels):\n",
    "        self.list_ids = list_ids\n",
    "        self.data = data_in\n",
    "        self.labels = labels\n",
    "\n",
    "    def __getitem__(self, index):\n",
    "\n",
    "        idx = self.list_ids[index]\n",
    "\n",
    "        x = self.data[idx, :, :]\n",
    "        y = self.labels[idx, :]\n",
    "\n",
    "        return x, y\n",
    "\n",
    "partition = {'train': range(0, data_size, 2),\n",
    "             'test': range(1, data_size, 2)}\n",
    "training_set = Dataset(partition['train'], data2d, labels)\n"
   ]
  },
  {
   "cell_type": "code",
   "execution_count": 58,
   "id": "8829e3dc-3cc3-40f5-9491-3cf30b3156f9",
   "metadata": {},
   "outputs": [],
   "source": [
    "training_generator = data.DataLoader(training_set, batch_size=125, shuffle=True)"
   ]
  },
  {
   "cell_type": "markdown",
   "id": "8e0d88e7-bcd1-4d8c-9c34-f382cf19e40c",
   "metadata": {},
   "source": [
    "## Integrator"
   ]
  },
  {
   "cell_type": "code",
   "execution_count": 59,
   "id": "c7485cca-b91b-41ce-bc33-2523f266daae",
   "metadata": {},
   "outputs": [],
   "source": [
    "t_end = 1.2\n",
    "n_layers = 6\n",
    "h = t_end / n_layers"
   ]
  },
  {
   "cell_type": "code",
   "execution_count": 60,
   "id": "e5599c66-5abf-4c14-b6b5-ef2802428951",
   "metadata": {},
   "outputs": [],
   "source": [
    "# # Select training parameters\n",
    "alpha = 5e-4\n",
    "learning_rate = 0.05\n",
    "max_iteration = 200\n",
    "\n",
    "bias = 10\n",
    "\n",
    "# define network structure and optimizer\n",
    "batch_size = 125\n",
    "training_set = Dataset(partition['train'], data2d, labels)\n",
    "training_generator = data.DataLoader(training_set, batch_size=batch_size, shuffle=True)"
   ]
  },
  {
   "cell_type": "code",
   "execution_count": 61,
   "id": "dc48f2fc-61ad-4a00-abf2-c779ca8bdbc1",
   "metadata": {},
   "outputs": [],
   "source": [
    "class H1(nn.Module):\n",
    "    # Hamiltonian neural network, as presented in [1,2].\n",
    "    # H_1-DNN and H_2-DNN\n",
    "    # General ODE: \\dot{y} = J(y,t) K(t) \\tanh( K^T(t) y(t) + b(t) )\n",
    "    # Constraints:\n",
    "    #   J(y,t) = J_1 = [ 0 I ; -I 0 ]  or  J(y,t) = J_2 = [ 0 1 .. 1 ; -1 0 .. 1 ; .. ; -1 -1 .. 0 ].\n",
    "    # Discretization method: Forward Euler\n",
    "    def __init__(self, n_layers, t_end, nf, random=True, select_j='J1'):\n",
    "        super().__init__()\n",
    "\n",
    "        self.n_layers = n_layers  # nt: number of layers\n",
    "        self.h = t_end / self.n_layers  #interval\n",
    "        self.act = nn.Tanh()    # activation function\n",
    "        self.nf = nf            # number of features\n",
    "\n",
    "        if random:\n",
    "            K = torch.randn(self.nf, self.nf, self.n_layers)\n",
    "            b = torch.randn(self.nf, 1, self.n_layers)\n",
    "        else:\n",
    "            K = torch.ones(self.nf, self.nf, self.n_layers)\n",
    "            b = torch.zeros(self.nf, 1, self.n_layers)\n",
    "\n",
    "        self.K = nn.Parameter(K, True)\n",
    "        self.b = nn.Parameter(b, True)\n",
    "\n",
    "        if select_j == 'J1':\n",
    "            j_identity = torch.eye(self.nf//2)\n",
    "            j_zeros = torch.zeros(self.nf//2, self.nf//2)\n",
    "            self.J = torch.cat((torch.cat((j_zeros, j_identity), 0), torch.cat((- j_identity, j_zeros), 0)), 1)\n",
    "        else:\n",
    "            j_aux = np.hstack((np.zeros(1), np.ones(self.nf-1)))\n",
    "            J = j_aux\n",
    "            for j in range(self.nf-1):\n",
    "                j_aux = np.hstack((-1 * np.ones(1), j_aux[:-1]))\n",
    "                J = np.vstack((J, j_aux))\n",
    "            self.J = torch.tensor(J, dtype=torch.float32)\n",
    "\n",
    "    def getK(self):\n",
    "        return self.K\n",
    "\n",
    "    def getb(self):\n",
    "        return self.b\n",
    "\n",
    "    def getJ(self):\n",
    "        return self.J\n",
    "\n",
    "    def forward(self, Y0, ini=0, end=None):\n",
    "\n",
    "        dim = len(Y0.shape)\n",
    "        Y = Y0.transpose(1, dim-1)\n",
    "\n",
    "        if end is None:\n",
    "            end = self.n_layers\n",
    "        \n",
    "        for j in range(ini, end):\n",
    "            Y = Y + self.h * F.linear(self.act(F.linear(\n",
    "                Y, self.K[:, :, j].transpose(0, 1), self.b[:, 0, j])), torch.matmul(self.J, self.K[:, :, j]))\n",
    "\n",
    "        NNoutput = Y.transpose(1, dim-1)\n",
    "\n",
    "        return NNoutput"
   ]
  },
  {
   "cell_type": "code",
   "execution_count": 62,
   "id": "746ef024-4827-474a-acd0-44dc9902caf1",
   "metadata": {},
   "outputs": [],
   "source": [
    "def regularization(alpha, h, K, b):\n",
    "    # Regularization function as introduced in [1]\n",
    "    n_layers = K.shape[-1]\n",
    "    loss = 0\n",
    "    for j in range(n_layers - 1):\n",
    "        loss = loss + alpha * h * (1 / 2 * torch.norm(K[:, :, j + 1] - K[:, :, j]) ** 2 +\n",
    "                                   1 / 2 * torch.norm(b[:, :, j + 1] - b[:, :, j]) ** 2)\n",
    "    return loss"
   ]
  },
  {
   "cell_type": "markdown",
   "id": "e0088026-810b-4e81-a906-2eb51fc78ac3",
   "metadata": {},
   "source": [
    "## Training"
   ]
  },
  {
   "cell_type": "code",
   "execution_count": 63,
   "id": "6b16099f-9c4a-4f0a-93e4-497ad98d1c71",
   "metadata": {},
   "outputs": [],
   "source": [
    "model = H1(n_layers, t_end, nf=nf, select_j='J1')"
   ]
  },
  {
   "cell_type": "code",
   "execution_count": 64,
   "id": "afa79538-9906-41da-8876-6ec8d47f87e4",
   "metadata": {},
   "outputs": [],
   "source": [
    "loss_func = nn.BCEWithLogitsLoss()\n",
    "optimizer_k = torch.optim.Adam(model.parameters(), lr=learning_rate)"
   ]
  },
  {
   "cell_type": "code",
   "execution_count": 65,
   "id": "3c4f7412-2071-43fb-aad1-f2ff7efc62c3",
   "metadata": {},
   "outputs": [],
   "source": [
    "def compute_H(y,K,b):\n",
    "    n_layers = K.shape[-1]\n",
    "    H = torch.sum(torch.log(torch.cosh(F.linear(\n",
    "                y.squeeze(2), K[:, :, n_layers-1].transpose(0, 1), b[:, 0, n_layers-1]))),1) - bias\n",
    "    return H"
   ]
  },
  {
   "cell_type": "code",
   "execution_count": 66,
   "id": "59f13028-34b4-46b3-b048-814574371ef3",
   "metadata": {},
   "outputs": [
    {
     "name": "stdout",
     "output_type": "stream",
     "text": [
      "\tTrain Epoch:  0 - Loss: 0.550675 - Accuracy: 80.80%\n",
      "\tTrain Epoch: 10 - Loss: 0.064948 - Accuracy: 99.20%\n",
      "\tTrain Epoch: 20 - Loss: 0.022021 - Accuracy: 99.20%\n",
      "\tTrain Epoch: 30 - Loss: 0.008508 - Accuracy: 100.00%\n",
      "\tTrain Epoch: 40 - Loss: 0.006730 - Accuracy: 100.00%\n",
      "\tTrain Epoch: 50 - Loss: 0.005230 - Accuracy: 100.00%\n",
      "\tTrain Epoch: 60 - Loss: 0.004227 - Accuracy: 100.00%\n",
      "\tTrain Epoch: 70 - Loss: 0.004039 - Accuracy: 100.00%\n",
      "\tTrain Epoch: 80 - Loss: 0.001178 - Accuracy: 100.00%\n",
      "\tTrain Epoch: 90 - Loss: 0.004170 - Accuracy: 100.00%\n",
      "\tTrain Epoch: 100 - Loss: 0.000608 - Accuracy: 100.00%\n",
      "\tTrain Epoch: 110 - Loss: 0.001179 - Accuracy: 100.00%\n",
      "\tTrain Epoch: 120 - Loss: 0.001397 - Accuracy: 100.00%\n",
      "\tTrain Epoch: 130 - Loss: 0.000773 - Accuracy: 100.00%\n",
      "\tTrain Epoch: 140 - Loss: 0.000760 - Accuracy: 100.00%\n",
      "\tTrain Epoch: 150 - Loss: 0.000721 - Accuracy: 100.00%\n",
      "\tTrain Epoch: 160 - Loss: 0.000953 - Accuracy: 100.00%\n",
      "\tTrain Epoch: 170 - Loss: 0.000728 - Accuracy: 100.00%\n",
      "\tTrain Epoch: 180 - Loss: 0.001204 - Accuracy: 100.00%\n",
      "\tTrain Epoch: 190 - Loss: 0.000508 - Accuracy: 100.00%\n",
      "\tTrain Accuracy: 100.00%\n",
      "\tTest Accuracy: 100.00%\n"
     ]
    }
   ],
   "source": [
    "for epoch in range(max_iteration):\n",
    "\n",
    "    training_iterator = iter(training_generator)\n",
    "\n",
    "    for i_k in range(int(data2d[partition['train']].size(0) / training_generator.batch_size)):\n",
    "\n",
    "        local_samples, local_labels = next(training_iterator)\n",
    "\n",
    "        \n",
    "        YN = model(local_samples)\n",
    "        \n",
    "        optimizer_k.zero_grad()\n",
    "        K = model.getK()\n",
    "        b = model.getb()\n",
    "\n",
    "        loss = loss_func(compute_H(YN,K,b), local_labels.squeeze(1))\n",
    "        loss += regularization(alpha, h, K, b)\n",
    "        loss.backward()\n",
    "        li = list(optimizer_k.state)\n",
    "        if not (len(li) == 0):\n",
    "            for ii in range(2):\n",
    "                optimizer_k.state[li[ii]]['step'] = epoch\n",
    "        optimizer_k.step()\n",
    "\n",
    "    if epoch % 10 == 0:\n",
    "        with torch.no_grad():\n",
    "            YN = model(local_samples)\n",
    "        loss = loss_func(compute_H(YN,K,b).unsqueeze(1), local_labels)\n",
    "        loss.backward()\n",
    "        acc = (torch.ge(torch.sigmoid(compute_H(YN,K,b).unsqueeze(1)), 0.5) == local_labels).sum().numpy() / batch_size\n",
    "        print('\\tTrain Epoch: {:2d} - Loss: {:.6f} - Accuracy: {:.2f}%'.format(epoch, loss, acc*100))\n",
    "\n",
    "# Train classification layer with all the data\n",
    "\n",
    "# Accuracy results\n",
    "\n",
    "with torch.no_grad():\n",
    "    train_acc = (torch.ge(torch.sigmoid(compute_H(model(data2d[partition['train'], :, :]),K,b)).unsqueeze(1), 0.5) == labels[partition['train'], :]\n",
    "                 ).sum().numpy() / train_data_size\n",
    "    test_acc = (torch.ge(torch.sigmoid(compute_H(model(data2d[partition['test'], :, :]),K,b)).unsqueeze(1), 0.5) == labels[partition['test'], :]\n",
    "                ).sum().numpy() / test_data_size\n",
    "    \n",
    "print('\\tTrain Accuracy: {:.2f}%'.format(train_acc*100))\n",
    "print('\\tTest Accuracy: {:.2f}%'.format(test_acc*100))"
   ]
  },
  {
   "cell_type": "code",
   "execution_count": 67,
   "id": "6c05f7b9-e2ad-4cde-a258-33f0664087e5",
   "metadata": {},
   "outputs": [
    {
     "data": {
      "image/png": "[encoded data removed]",
      "text/plain": [
       "<Figure size 432x288 with 1 Axes>"
      ]
     },
     "metadata": {
      "needs_background": "light"
     },
     "output_type": "display_data"
    },
    {
     "data": {
      "image/png": "[encoded data removed]",
      "text/plain": [
       "<Figure size 432x288 with 1 Axes>"
      ]
     },
     "metadata": {
      "needs_background": "light"
     },
     "output_type": "display_data"
    },
    {
     "data": {
      "image/png": "[encoded data removed]",
      "text/plain": [
       "<Figure size 432x288 with 1 Axes>"
      ]
     },
     "metadata": {
      "needs_background": "light"
     },
     "output_type": "display_data"
    }
   ],
   "source": [
    "plt.scatter(local_samples.data.numpy()[:,0],local_samples.data.numpy()[:,1],c=local_labels)\n",
    "plt.title('1st layer')\n",
    "plt.show()\n",
    "\n",
    "plt.scatter(YN.data.numpy()[:,0],YN.data.numpy()[:,1],c=local_labels)\n",
    "plt.title('final layer')\n",
    "plt.show()\n",
    "\n",
    "plt.scatter(np.zeros(125),torch.sigmoid(compute_H(YN,K,b)).data.numpy(),c=local_labels)\n",
    "plt.axhline(0.5, label='mean',linestyle='-.', color='r')\n",
    "plt.title('energy')\n",
    "plt.show()"
   ]
  },
  {
   "cell_type": "code",
   "execution_count": 68,
   "id": "9ce14c62-cfdd-4030-be11-595f344558e3",
   "metadata": {},
   "outputs": [
    {
     "data": {
      "image/png": "[encoded data removed]",
      "text/plain": [
       "<Figure size 432x288 with 1 Axes>"
      ]
     },
     "metadata": {
      "needs_background": "light"
     },
     "output_type": "display_data"
    }
   ],
   "source": [
    "plt.scatter(np.zeros(125),compute_H(YN,K,b).data.numpy(),c=local_labels)\n",
    "plt.title('energy')\n",
    "plt.show()"
   ]
  }
 ],
 "metadata": {
  "kernelspec": {
   "display_name": "Python 3 (ipykernel)",
   "language": "python",
   "name": "python3"
  },
  "language_info": {
   "codemirror_mode": {
    "name": "ipython",
    "version": 3
   },
   "file_extension": ".py",
   "mimetype": "text/x-python",
   "name": "python",
   "nbconvert_exporter": "python",
   "pygments_lexer": "ipython3",
   "version": "3.8.12"
  }
 },
 "nbformat": 4,
 "nbformat_minor": 5
}
