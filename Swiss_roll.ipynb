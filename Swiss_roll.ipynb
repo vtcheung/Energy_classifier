{
 "cells": [
  {
   "cell_type": "code",
   "execution_count": 49,
   "id": "7db6ebf4-d986-4bd5-b336-ab551c483ed3",
   "metadata": {},
   "outputs": [],
   "source": [
    "import torch\n",
    "import math\n",
    "from torch.utils import data\n",
    "import matplotlib.pyplot as plt\n",
    "\n",
    "import torch.nn.functional as F\n",
    "from torch import nn\n",
    "import numpy as np\n",
    "from scipy.sparse import coo_matrix"
   ]
  },
  {
   "cell_type": "markdown",
   "id": "a45bb3eb-9b5c-4a35-a64e-c01642ef2ee3",
   "metadata": {},
   "source": [
    "## Data Generation"
   ]
  },
  {
   "cell_type": "code",
   "execution_count": 50,
   "id": "a86c00c1-e695-40f0-957f-9f5282877b45",
   "metadata": {},
   "outputs": [],
   "source": [
    "def swiss_roll(data_size, shuffle=True, nf=2, noise_std=0, input_ch=None):\n",
    "\n",
    "    data2d = torch.zeros(data_size, 2, 1)\n",
    "    label = torch.ones(data_size, 1)\n",
    "    label[math.floor(data_size / 2):, :] = 0\n",
    "\n",
    "    r1 = torch.linspace(0, 1, math.ceil(data_size / 2))\n",
    "    r2 = torch.linspace(0.2, 1.2, math.ceil(data_size / 2))\n",
    "    theta = torch.linspace(0, 4 * math.pi - 4 * math.pi / math.ceil(data_size / 2), math.ceil(data_size / 2))\n",
    "    data2d[0:math.ceil(data_size / 2), 0, 0] = r1 * torch.cos(theta)\n",
    "    data2d[0:math.ceil(data_size / 2), 1, 0] = r1 * torch.sin(theta)\n",
    "    data2d[math.floor(data_size / 2):, 0, 0] = r2 * torch.cos(theta)\n",
    "    data2d[math.floor(data_size / 2):, 1, 0] = r2 * torch.sin(theta)\n",
    "    if noise_std:\n",
    "        for i in range(2):\n",
    "            data2d[:, i, 0] = data2d[:, i, 0] + noise_std*torch.randn(data_size)\n",
    "\n",
    "    if shuffle:\n",
    "        data2d, label = _data_shuffle(data2d, label)\n",
    "    \n",
    "    if nf != 2:\n",
    "        data2d = _data_extension(data2d, nf, input_ch)\n",
    "    \n",
    "    domain = [-1.2, 1.2, -1.2, 1.2]\n",
    "    return data2d, label, domain"
   ]
  },
  {
   "cell_type": "code",
   "execution_count": 51,
   "id": "ca31d982-cad3-4c30-b417-e68df5faf415",
   "metadata": {},
   "outputs": [],
   "source": [
    "data_size = 8000\n",
    "train_data_size = 4000\n",
    "test_data_size = data_size - train_data_size\n",
    "nf=4\n",
    "data_gen = swiss_roll"
   ]
  },
  {
   "cell_type": "code",
   "execution_count": 52,
   "id": "30ce3830-0ec8-4433-bb35-38487466f57f",
   "metadata": {},
   "outputs": [],
   "source": [
    "def _data_shuffle(data2d, label):\n",
    "    data_size = data2d.shape[0]\n",
    "    randindex = torch.randperm(data_size)\n",
    "    data2d = data2d[randindex, :, :]\n",
    "    label = label[randindex, :]\n",
    "    return data2d, label\n",
    "def _data_extension(data2d, nf, input_ch=None):\n",
    "    if nf < 2:\n",
    "        print(\"Dimension not valid\")\n",
    "        return\n",
    "    elif nf % 2 == 1:\n",
    "        print(\"Using odd dimension nf\")\n",
    "    data_size = data2d.shape[0]\n",
    "    if input_ch is not None:\n",
    "        # input_ch is a list of two elements. The elements indicate where the data enters.\n",
    "        idx_x = input_ch[0]\n",
    "        idx_y = input_ch[1]\n",
    "    else:\n",
    "        idx_x = 0\n",
    "        idx_y = nf-1\n",
    "    data2d = torch.cat((torch.zeros(data_size, idx_x-0, 1),\n",
    "                        data2d[:, 0:1, :],\n",
    "                        torch.zeros(data_size, idx_y-idx_x-1, 1),\n",
    "                        data2d[:, 1:2, :],\n",
    "                        torch.zeros(data_size, nf-1-idx_y, 1)), 1)\n",
    "    return data2d"
   ]
  },
  {
   "cell_type": "code",
   "execution_count": 53,
   "id": "ec801285-1ea7-4d7b-9a1f-9168a5fbfde1",
   "metadata": {},
   "outputs": [],
   "source": [
    "data2d, labels, domain = data_gen(data_size,nf=nf)"
   ]
  },
  {
   "cell_type": "code",
   "execution_count": 54,
   "id": "821fffd3-d087-4e03-8ea3-4dc52d119a7d",
   "metadata": {},
   "outputs": [],
   "source": [
    "class Dataset(data.Dataset):\n",
    "\n",
    "    def __len__(self):\n",
    "        return len(self.list_ids)\n",
    "\n",
    "    def __init__(self, list_ids, data_in, labels):\n",
    "        self.list_ids = list_ids\n",
    "        self.data = data_in\n",
    "        self.labels = labels\n",
    "\n",
    "    def __getitem__(self, index):\n",
    "\n",
    "        idx = self.list_ids[index]\n",
    "\n",
    "        x = self.data[idx, :, :]\n",
    "        y = self.labels[idx, :]\n",
    "\n",
    "        return x, y\n",
    "\n",
    "partition = {'train': range(0, data_size, 2),\n",
    "             'test': range(1, data_size, 2)}\n",
    "training_set = Dataset(partition['train'], data2d, labels)\n"
   ]
  },
  {
   "cell_type": "code",
   "execution_count": 55,
   "id": "9190fb00-0264-4bc5-91d1-7d2cce408f3c",
   "metadata": {},
   "outputs": [],
   "source": [
    "training_generator = data.DataLoader(training_set, batch_size=125, shuffle=True)"
   ]
  },
  {
   "cell_type": "markdown",
   "id": "7916fc4a-690e-479f-aacb-f53e4e431d91",
   "metadata": {},
   "source": [
    "## Integrator"
   ]
  },
  {
   "cell_type": "code",
   "execution_count": 56,
   "id": "77cd4a15-e098-4523-97d3-c55e9e007171",
   "metadata": {},
   "outputs": [],
   "source": [
    "t_end = 1\n",
    "n_layers = 4\n",
    "h = t_end / n_layers"
   ]
  },
  {
   "cell_type": "code",
   "execution_count": 57,
   "id": "415342cc-ebf2-43db-ab04-076c48f457e2",
   "metadata": {},
   "outputs": [],
   "source": [
    "# # Select training parameters\n",
    "alpha = 5e-4\n",
    "alphac = 1e-4\n",
    "learning_rate = 0.1#0.5e-1\n",
    "max_iteration = 80\n",
    "\n",
    "# define network structure and optimizer\n",
    "batch_size = 125\n",
    "training_set = Dataset(partition['train'], data2d, labels)\n",
    "training_generator = data.DataLoader(training_set, batch_size=batch_size, shuffle=True)"
   ]
  },
  {
   "cell_type": "code",
   "execution_count": 58,
   "id": "5dae200c-9e42-47d4-96e1-81bc89b6acb2",
   "metadata": {},
   "outputs": [],
   "source": [
    "class H1(nn.Module):\n",
    "    # Hamiltonian neural network, as presented in [1,2].\n",
    "    # H_1-DNN and H_2-DNN\n",
    "    # General ODE: \\dot{y} = J(y,t) K(t) \\tanh( K^T(t) y(t) + b(t) )\n",
    "    # Constraints:\n",
    "    #   J(y,t) = J_1 = [ 0 I ; -I 0 ]  or  J(y,t) = J_2 = [ 0 1 .. 1 ; -1 0 .. 1 ; .. ; -1 -1 .. 0 ].\n",
    "    # Discretization method: Forward Euler\n",
    "    def __init__(self, n_layers, t_end, nf, random=True, select_j='J1'):\n",
    "        super().__init__()\n",
    "\n",
    "        self.n_layers = n_layers  # nt: number of layers\n",
    "        self.h = t_end / self.n_layers  #interval\n",
    "        self.act = nn.Tanh()    # activation function\n",
    "        self.nf = nf            # number of features\n",
    "\n",
    "        if random:\n",
    "            K = torch.randn(self.nf, self.nf, self.n_layers)\n",
    "            b = torch.randn(self.nf, 1, self.n_layers)\n",
    "        else:\n",
    "            K = torch.ones(self.nf, self.nf, self.n_layers)\n",
    "            b = torch.zeros(self.nf, 1, self.n_layers)\n",
    "\n",
    "        self.K = nn.Parameter(K, True)\n",
    "        self.b = nn.Parameter(b, True)\n",
    "\n",
    "        if select_j == 'J1':\n",
    "            j_identity = torch.eye(self.nf//2)\n",
    "            j_zeros = torch.zeros(self.nf//2, self.nf//2)\n",
    "            self.J = torch.cat((torch.cat((j_zeros, j_identity), 0), torch.cat((- j_identity, j_zeros), 0)), 1)\n",
    "        else:\n",
    "            j_aux = np.hstack((np.zeros(1), np.ones(self.nf-1)))\n",
    "            J = j_aux\n",
    "            for j in range(self.nf-1):\n",
    "                j_aux = np.hstack((-1 * np.ones(1), j_aux[:-1]))\n",
    "                J = np.vstack((J, j_aux))\n",
    "            self.J = torch.tensor(J, dtype=torch.float32)\n",
    "\n",
    "    def getK(self):\n",
    "        return self.K\n",
    "\n",
    "    def getb(self):\n",
    "        return self.b\n",
    "\n",
    "    def getJ(self):\n",
    "        return self.J\n",
    "\n",
    "    def forward(self, Y0, ini=0, end=None):\n",
    "\n",
    "        dim = len(Y0.shape)\n",
    "        Y = Y0.transpose(1, dim-1)\n",
    "\n",
    "        if end is None:\n",
    "            end = self.n_layers\n",
    "        \n",
    "        for j in range(ini, end):\n",
    "            Y = Y + self.h * F.linear(self.act(F.linear(\n",
    "                Y, self.K[:, :, j].transpose(0, 1), self.b[:, 0, j])), torch.matmul(self.J, self.K[:, :, j]))\n",
    "            \n",
    "        NNoutput = Y.transpose(1, dim-1)\n",
    "\n",
    "        return NNoutput"
   ]
  },
  {
   "cell_type": "code",
   "execution_count": 59,
   "id": "e98310ad-1aa7-4e23-966e-ebaa5731775a",
   "metadata": {},
   "outputs": [],
   "source": [
    "def regularization(alpha, h, K, b):\n",
    "    # Regularization function as introduced in [1]\n",
    "    n_layers = K.shape[-1]\n",
    "    loss = 0\n",
    "    for j in range(n_layers - 1):\n",
    "        loss = loss + alpha * h * (1 / 2 * torch.norm(K[:, :, j + 1] - K[:, :, j]) ** 2 +\n",
    "                                   1 / 2 * torch.norm(b[:, :, j + 1] - b[:, :, j]) ** 2)\n",
    "    return loss"
   ]
  },
  {
   "cell_type": "markdown",
   "id": "99fefa5d-741c-44d7-9112-2fe333ec87a3",
   "metadata": {},
   "source": [
    "## Training"
   ]
  },
  {
   "cell_type": "code",
   "execution_count": 60,
   "id": "9130d3dc-d46a-41d4-971f-ce6b0fa5273d",
   "metadata": {},
   "outputs": [],
   "source": [
    "model = H1(n_layers, t_end, nf=nf, select_j='J1')"
   ]
  },
  {
   "cell_type": "code",
   "execution_count": 61,
   "id": "3fdee524-b2a9-445f-8b07-f60fdfebb22d",
   "metadata": {},
   "outputs": [],
   "source": [
    "loss_func = nn.BCEWithLogitsLoss()\n",
    "optimizer_k = torch.optim.Adam(model.parameters(), lr=learning_rate)"
   ]
  },
  {
   "cell_type": "code",
   "execution_count": 62,
   "id": "680de33f-b8a9-4bd4-8b7e-6eceb56ca8f4",
   "metadata": {},
   "outputs": [],
   "source": [
    "def compute_H(y,K,b):\n",
    "    n_layers = K.shape[-1]\n",
    "    H = torch.sum(torch.log(torch.cosh(F.linear(\n",
    "                y.squeeze(2), K[:, :, n_layers-1].transpose(0, 1), b[:, 0, n_layers-1]))),1)\n",
    "    return H"
   ]
  },
  {
   "cell_type": "code",
   "execution_count": 63,
   "id": "07cdf781-2b1e-40f4-be7c-55ca2396149c",
   "metadata": {},
   "outputs": [
    {
     "name": "stdout",
     "output_type": "stream",
     "text": [
      "\tTrain Epoch:  0 - Loss: 0.705542 - Accuracy: 58.40%\n",
      "\tTrain Epoch: 10 - Loss: 0.587229 - Accuracy: 77.60%\n",
      "\tTrain Epoch: 20 - Loss: 0.511606 - Accuracy: 88.00%\n",
      "\tTrain Epoch: 30 - Loss: 0.457039 - Accuracy: 95.20%\n",
      "\tTrain Epoch: 40 - Loss: 0.439502 - Accuracy: 96.80%\n",
      "\tTrain Epoch: 50 - Loss: 0.428100 - Accuracy: 96.00%\n",
      "\tTrain Epoch: 60 - Loss: 0.426315 - Accuracy: 96.00%\n",
      "\tTrain Epoch: 70 - Loss: 0.463012 - Accuracy: 96.80%\n",
      "\tTrain Accuracy: 96.28%\n",
      "\tTest Accuracy: 96.43%\n"
     ]
    }
   ],
   "source": [
    "for epoch in range(max_iteration):\n",
    "\n",
    "    training_iterator = iter(training_generator)\n",
    "\n",
    "    for i_k in range(int(data2d[partition['train']].size(0) / training_generator.batch_size)):\n",
    "\n",
    "        local_samples, local_labels = next(training_iterator)\n",
    "\n",
    "        \n",
    "        YN = model(local_samples)\n",
    "        \n",
    "        optimizer_k.zero_grad()\n",
    "        K = model.getK()\n",
    "        b = model.getb()\n",
    "\n",
    "        loss = loss_func(compute_H(YN,K,b), local_labels.squeeze(1))\n",
    "        loss += regularization(alpha, h, K, b)\n",
    "        loss.backward()\n",
    "        li = list(optimizer_k.state)\n",
    "        if not (len(li) == 0):\n",
    "            for ii in range(2):\n",
    "                optimizer_k.state[li[ii]]['step'] = epoch\n",
    "        optimizer_k.step()\n",
    "\n",
    "    if epoch % 10 == 0:\n",
    "        with torch.no_grad():\n",
    "            YN = model(local_samples)\n",
    "        loss = loss_func(compute_H(YN,K,b).unsqueeze(1), local_labels)\n",
    "        loss.backward()\n",
    "        acc = (torch.ge(torch.sigmoid(compute_H(YN,K,b).unsqueeze(1)), 0.75) == local_labels).sum().numpy() / batch_size\n",
    "        print('\\tTrain Epoch: {:2d} - Loss: {:.6f} - Accuracy: {:.2f}%'.format(epoch, loss, acc*100))\n",
    "\n",
    "# Train classification layer with all the data\n",
    "\n",
    "# Accuracy results\n",
    "\n",
    "with torch.no_grad():\n",
    "    train_acc = (torch.ge(torch.sigmoid(compute_H(model(data2d[partition['train'], :, :]),K,b)).unsqueeze(1), 0.75) == labels[partition['train'], :]\n",
    "                 ).sum().numpy() / train_data_size\n",
    "    test_acc = (torch.ge(torch.sigmoid(compute_H(model(data2d[partition['test'], :, :]),K,b)).unsqueeze(1), 0.75) == labels[partition['test'], :]\n",
    "                ).sum().numpy() / test_data_size\n",
    "    \n",
    "print('\\tTrain Accuracy: {:.2f}%'.format(train_acc*100))\n",
    "print('\\tTest Accuracy: {:.2f}%'.format(test_acc*100))"
   ]
  },
  {
   "cell_type": "code",
   "execution_count": 64,
   "id": "699c5d9c-ac85-4d30-9169-60def8e39f57",
   "metadata": {},
   "outputs": [
    {
     "data": {
      "image/png": "[encoded data removed]",
      "text/plain": [
       "<Figure size 432x288 with 1 Axes>"
      ]
     },
     "metadata": {
      "needs_background": "light"
     },
     "output_type": "display_data"
    },
    {
     "data": {
      "image/png": "[encoded data removed]",
      "text/plain": [
       "<Figure size 432x288 with 1 Axes>"
      ]
     },
     "metadata": {
      "needs_background": "light"
     },
     "output_type": "display_data"
    },
    {
     "data": {
      "image/png": "[encoded data removed]",
      "text/plain": [
       "<Figure size 432x288 with 1 Axes>"
      ]
     },
     "metadata": {
      "needs_background": "light"
     },
     "output_type": "display_data"
    }
   ],
   "source": [
    "plt.scatter(local_samples.data.numpy()[:,0],local_samples.data.numpy()[:,nf-1],c=local_labels)\n",
    "plt.title('1st layer')\n",
    "plt.show()\n",
    "\n",
    "plt.scatter(YN.data.numpy()[:,0],YN.data.numpy()[:,nf-1],c=local_labels)\n",
    "plt.title('final layer')\n",
    "plt.show()\n",
    "\n",
    "plt.scatter(np.zeros(125),torch.sigmoid(compute_H(YN,K,b)).data.numpy(),c=local_labels)\n",
    "plt.axhline(0.75, label='mean',linestyle='-.', color='r')\n",
    "plt.title('energy')\n",
    "plt.show()"
   ]
  },
  {
   "cell_type": "code",
   "execution_count": null,
   "id": "6af0b118-29bc-433e-a92e-4204c72fa167",
   "metadata": {},
   "outputs": [],
   "source": []
  }
 ],
 "metadata": {
  "kernelspec": {
   "display_name": "Python 3 (ipykernel)",
   "language": "python",
   "name": "python3"
  },
  "language_info": {
   "codemirror_mode": {
    "name": "ipython",
    "version": 3
   },
   "file_extension": ".py",
   "mimetype": "text/x-python",
   "name": "python",
   "nbconvert_exporter": "python",
   "pygments_lexer": "ipython3",
   "version": "3.8.12"
  }
 },
 "nbformat": 4,
 "nbformat_minor": 5
}
